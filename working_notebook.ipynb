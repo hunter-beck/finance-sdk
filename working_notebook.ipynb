{
 "cells": [
  {
   "cell_type": "code",
   "execution_count": null,
   "metadata": {},
   "outputs": [],
   "source": [
    "import pandas as pd\n",
    "import seaborn as sns\n",
    "import requests\n",
    "from datetime import datetime\n",
    "import yaml\n",
    "import csv\n",
    "from dataclasses import dataclass, field\n",
    "import uuid \n",
    "import collections"
   ]
  },
  {
   "cell_type": "code",
   "execution_count": null,
   "metadata": {},
   "outputs": [],
   "source": [
    "pd.options.display.float_format = '{:,.2f}'.format"
   ]
  },
  {
   "cell_type": "markdown",
   "metadata": {},
   "source": [
    "balance_file = 'data/account_records.csv'"
   ]
  },
  {
   "cell_type": "markdown",
   "metadata": {},
   "source": [
    "accounts_file = 'data/accounts.csv'"
   ]
  },
  {
   "cell_type": "markdown",
   "metadata": {},
   "source": [
    "def get_exchange_rates(base, date=None, return_currencies=None):\n",
    "    \n",
    "    params={'base':base}\n",
    "    \n",
    "    if date == None:\n",
    "        url = f'https://api.exchangeratesapi.io/latest'\n",
    "    else:\n",
    "        url = f'https://api.exchangeratesapi.io/{date}'\n",
    "        \n",
    "    if return_currencies != None:\n",
    "        params['symbols'] = ','.join(return_currencies)\n",
    "\n",
    "    # Making our request\n",
    "    response = requests.get(url, params=params)\n",
    "    exchange_rates = response.json()\n",
    "    \n",
    "    return exchange_rates"
   ]
  },
  {
   "cell_type": "markdown",
   "metadata": {},
   "source": [
    "def convert_currency(row, base):\n",
    "        \n",
    "    if row['currency'] == base:\n",
    "        \n",
    "        return {f'balance_{base}': row['balance'],\n",
    "                'FOREX':1}\n",
    "    \n",
    "    else:    \n",
    "        exchange_rates = get_exchange_rates(\n",
    "            base='USD', \n",
    "            date=row['date'].date(), \n",
    "            return_currencies=[row['currency']])\n",
    "\n",
    "        return {f'balance_{base}': (row['balance'] / exchange_rates['rates'][row['currency']]),\n",
    "                'FOREX':exchange_rates['rates'][row['currency']]}"
   ]
  },
  {
   "cell_type": "markdown",
   "metadata": {},
   "source": [
    "base = 'USD'\n",
    "\n",
    "balance_history = pd.read_csv(balance_file, parse_dates=['date'])\n",
    "\n",
    "balance_history[[f'balance_{base}', 'FOREX']] = balance_history.apply(\n",
    "    convert_currency, \n",
    "    axis=1, \n",
    "    result_type='expand',\n",
    "    args=(base,)\n",
    ")\n",
    "\n",
    "balance_history"
   ]
  },
  {
   "cell_type": "markdown",
   "metadata": {},
   "source": [
    "latest_balances = balance_history.drop_duplicates(subset='account', keep='last')\n",
    "latest_balances"
   ]
  },
  {
   "cell_type": "markdown",
   "metadata": {},
   "source": [
    "latest_balances['balance_USD'].sum()"
   ]
  },
  {
   "cell_type": "markdown",
   "metadata": {
    "scrolled": true
   },
   "source": [
    "sns.lineplot(\n",
    "    data=balance_history,\n",
    "    x='date',\n",
    "    y='balance_USD',\n",
    "    hue='account',\n",
    "    marker='o'\n",
    ")"
   ]
  },
  {
   "cell_type": "markdown",
   "metadata": {},
   "source": [
    "pd.read_csv(accounts_file)"
   ]
  },
  {
   "cell_type": "code",
   "execution_count": null,
   "metadata": {},
   "outputs": [],
   "source": [
    "@dataclass\n",
    "class Account():\n",
    "    '''Individual bank account, investment fund, etc.'''\n",
    "         \n",
    "    name: str\n",
    "    type: str\n",
    "    country_code: str\n",
    "    id: str = field(default_factory=lambda: str(uuid.uuid4())[:8])\n",
    "    "
   ]
  },
  {
   "cell_type": "code",
   "execution_count": null,
   "metadata": {},
   "outputs": [],
   "source": [
    "@dataclass\n",
    "class AccountRecord():\n",
    "    '''Individual record for a balance at a point in time for an account'''\n",
    "    \n",
    "    datetime: datetime\n",
    "    account_id: str\n",
    "    balance: float\n",
    "    currency: str\n",
    "    id: str = field(default_factory=lambda: str(uuid.uuid4())[:8])\n",
    "    "
   ]
  },
  {
   "cell_type": "code",
   "execution_count": null,
   "metadata": {},
   "outputs": [],
   "source": [
    "class UserList(collections.abc.MutableSequence):\n",
    "    \n",
    "    def __init__(self):\n",
    "        self._inner_list = list()\n",
    "        \n",
    "    def __repr__(self):      \n",
    "        return repr(self.to_pandas())\n",
    "\n",
    "    def _repr_html_(self):\n",
    "        return self.to_pandas().to_html()\n",
    "    \n",
    "    def __len__(self):\n",
    "        return len(self._inner_list)\n",
    "\n",
    "    def __delitem__(self, index):\n",
    "        self._inner_list.__delitem__(index)\n",
    "\n",
    "    def insert(self, index, value):\n",
    "        self._inner_list.insert(index, value)\n",
    "\n",
    "    def __setitem__(self, index, value):\n",
    "        self._inner_list.__setitem__(index, value)\n",
    "\n",
    "    def __getitem__(self, index):\n",
    "        return self._inner_list.__getitem__(index)\n",
    "\n",
    "    def append(self, value):\n",
    "        self.insert(len(self) + 1, value)\n",
    "        \n",
    "    def to_pandas(self):\n",
    "        \n",
    "        df = pd.DataFrame([vars(x) for x in self._inner_list])\n",
    "        \n",
    "        if 'datetime' in df.columns:\n",
    "            df['datetime'] = pd.to_datetime(df['datetime'])\n",
    "        \n",
    "        return df\n",
    "    \n",
    "    def retrieve(self, ids):\n",
    "        '''Retrieves based on the unique id of the object\n",
    "        \n",
    "        Args:\n",
    "            ids (list of str): unique id of object\n",
    "            \n",
    "        Returns:\n",
    "            UserList: list of objects corresponding to ids\n",
    "        '''\n",
    "        filtered_list = list(filter(lambda item: item.id in ids, self._inner_list))\n",
    "        res = type(self)()\n",
    "        \n",
    "        for item in filtered_list:\n",
    "            res.append(item)\n",
    "        \n",
    "        return res\n",
    "    "
   ]
  },
  {
   "cell_type": "code",
   "execution_count": null,
   "metadata": {},
   "outputs": [],
   "source": [
    "class AccountRecordList(UserList):\n",
    "    '''List of AccountRecords'''\n",
    "    \n",
    "    def getMostRecentRecord(self, account_ids, end_time=datetime.now()):\n",
    "        '''Retrieves the value (based on the newest AccountRecord) for the specified account_id\n",
    "        \n",
    "        Args:\n",
    "            account_ids (list of str): unique ids for the accounts\n",
    "            end_time (datetime): defaults to now, but can specify time in past to get \n",
    "                balance on that date (inclusive)\n",
    "        \n",
    "        Returns:\n",
    "            (AccountRecordList): list of most recent account records for account_ids specified\n",
    "        '''\n",
    "                \n",
    "        records = self.to_pandas()\n",
    "        filtered_records = records[(records['account_id'].isin(account_ids)) & (records['datetime'] <= end_time)]        \n",
    "        idx = filtered_records.groupby(['account_id'])['datetime'].transform(max) == filtered_records['datetime']\n",
    "        grouped_records = filtered_records[idx]        \n",
    "        \n",
    "        return self.retrieve(ids=list(grouped_records['id']))\n",
    "    \n",
    "    def getAccountRecords(self, account_ids):\n",
    "        '''Retrieves the account records for the account_ids specified\n",
    "        \n",
    "        Args: \n",
    "            account_ids (str or list of str): unique id(s) for the accounts\n",
    "            \n",
    "        Returns:\n",
    "            (AccountRecordList): list of records corresponding to account ids specified\n",
    "        '''\n",
    "        \n",
    "        if type(account_ids) == str:\n",
    "            acccount_ids = [account_ids]\n",
    "        \n",
    "        filtered_records = filter(lambda account_record: account_record.account_id in account_ids, self)\n",
    "        \n",
    "        res = AccountRecordList()\n",
    "        \n",
    "        res._inner_list = list(filtered_records)\n",
    "        \n",
    "        return res\n",
    "        "
   ]
  },
  {
   "cell_type": "code",
   "execution_count": null,
   "metadata": {},
   "outputs": [],
   "source": [
    "class AccountList(UserList):\n",
    "    '''List of Accounts'''"
   ]
  },
  {
   "cell_type": "code",
   "execution_count": null,
   "metadata": {},
   "outputs": [],
   "source": [
    "class AccountValueError(Exception):\n",
    "    \"\"\"Exception raised when the account is not found in the client accounts.\n",
    "\n",
    "    Attributes:\n",
    "        account (str): name of the account\n",
    "        message -- explanation of the error\n",
    "    \"\"\"\n",
    "\n",
    "    def __init__(self, account_id, message=f'Account was not found in list of accounts'):\n",
    "        self.account_id = account_id\n",
    "        self.message = message\n",
    "        super().__init__(self.message)\n",
    "\n",
    "    def __str__(self):\n",
    "        return f'{self.account_id} -> {self.message}'\n",
    "    "
   ]
  },
  {
   "cell_type": "code",
   "execution_count": null,
   "metadata": {},
   "outputs": [],
   "source": [
    "class Client():\n",
    "    '''represents an instance of use of the finance tool'''\n",
    "    \n",
    "    def __init__(self, config, accounts, account_records, \n",
    "                 country_codes, currency_codes):\n",
    "        '''Initializes instance of the finance tool with static config,\n",
    "        static data, and account records\n",
    "        \n",
    "        Args:\n",
    "            config (str): path to yaml file with general config information\n",
    "            accounts (str): path to csv file with account information\n",
    "            accounts_records (str): path to csv file with historical account information\n",
    "            country_codes (str): path to csv file with country codes\n",
    "            currency_codes (str): path to csv file with currency codes\n",
    "        '''\n",
    "        \n",
    "        self._config_file = config\n",
    "        self._accounts_file = accounts\n",
    "        self._accounts_records_file = account_records\n",
    "        self._country_codes_file = country_codes\n",
    "        self._currency_codes_file = currency_codes\n",
    "\n",
    "        with open(config) as file:\n",
    "            config = yaml.load(file, Loader=yaml.FullLoader)    \n",
    "            self._account_types = config['account_types']\n",
    "        \n",
    "        self.account_records = AccountRecordList()\n",
    "        \n",
    "        with open(self._accounts_records_file, mode='r') as csv_file:\n",
    "            csv_reader = csv.DictReader(csv_file)\n",
    "            line_count = 0\n",
    "            for row in csv_reader:\n",
    "                self.account_records.append(AccountRecord(**row))\n",
    "\n",
    "        self.accounts = AccountList()\n",
    "\n",
    "        with open(self._accounts_file, mode='r') as csv_file:\n",
    "            csv_reader = csv.DictReader(csv_file)\n",
    "            line_count = 0\n",
    "            for row in csv_reader:\n",
    "                self.accounts.append(Account(**row))      \n",
    "        \n",
    "        self._country_codes = []\n",
    "\n",
    "        with open(self._country_codes_file, mode='r') as csv_file:\n",
    "            csv_reader = csv.DictReader(csv_file)\n",
    "            line_count = 0\n",
    "            for row in csv_reader:\n",
    "                self._country_codes.append(row['Alpha-3 code'])\n",
    "\n",
    "        \n",
    "        self._currency_codes = []\n",
    "\n",
    "        with open(self._currency_codes_file, mode='r') as csv_file:\n",
    "            csv_reader = csv.DictReader(csv_file)\n",
    "            line_count = 0\n",
    "            for row in csv_reader:\n",
    "                self._currency_codes.append(row['alpha_code'])\n",
    "                    \n",
    "    def addAccount(self, account):\n",
    "        '''Add a new account to the client\n",
    "        \n",
    "        Args:\n",
    "            account (Account): banking, invetment or other account\n",
    "            \n",
    "        '''\n",
    "        \n",
    "        if account.type not in self._account_types:\n",
    "            raise ValueError(f'Account type: {account.type} is not valid. Options are: {self._account_types}')\n",
    "            \n",
    "        if account.country_code not in self._country_codes:\n",
    "            raise ValueError(f'Country code: {account.country_code} is not valid. Options are: {self._country_codes}')\n",
    "            \n",
    "        self.accounts.append(account)\n",
    "        \n",
    "    def addRecord(self, account_record):\n",
    "        '''Add a new Account Record to the client\n",
    "        \n",
    "        Args:\n",
    "            account_record (AccountRecord): balance on a given date for a given account\n",
    "        '''\n",
    "        \n",
    "        account_ids = []\n",
    "        \n",
    "        for account in self.accounts:\n",
    "            account_ids.append(account.id)\n",
    "        \n",
    "        if account_record.account_id not in account_ids:\n",
    "            raise AccountValueError(account_record.account_id)\n",
    "            \n",
    "        if account_record.currency not in self._currency_codes:\n",
    "            raise ValueError(f'Currency: {account_record.currency} is not valid. Valid currencies are: {self._currency_codes}')\n",
    "        \n",
    "        self.account_records.append(account_record)\n",
    "        "
   ]
  },
  {
   "cell_type": "code",
   "execution_count": null,
   "metadata": {},
   "outputs": [],
   "source": [
    "c = Client(\n",
    "    config='config.yml', \n",
    "    accounts='data/accounts.csv', \n",
    "    account_records='data/account_records.csv',\n",
    "    country_codes='static/country_codes.csv',\n",
    "    currency_codes='static/currency_codes.csv'\n",
    ")"
   ]
  },
  {
   "cell_type": "code",
   "execution_count": null,
   "metadata": {
    "scrolled": false
   },
   "outputs": [],
   "source": [
    "c.account_records.getAccountRecords(account_ids='6c0037c1')"
   ]
  },
  {
   "cell_type": "markdown",
   "metadata": {},
   "source": [
    "## Dash app"
   ]
  },
  {
   "cell_type": "code",
   "execution_count": null,
   "metadata": {},
   "outputs": [],
   "source": [
    "import plotly.express as px\n",
    "from jupyter_dash import JupyterDash\n",
    "import dash_core_components as dcc\n",
    "import dash_html_components as html\n",
    "from dash.dependencies import Input, Output\n",
    "import dash_bootstrap_components as dbc\n",
    "import dash_table\n",
    "from dash.exceptions import PreventUpdate"
   ]
  },
  {
   "cell_type": "code",
   "execution_count": null,
   "metadata": {},
   "outputs": [],
   "source": [
    "# Build App\n",
    "app = JupyterDash(__name__)"
   ]
  },
  {
   "cell_type": "code",
   "execution_count": null,
   "metadata": {},
   "outputs": [],
   "source": [
    "account_dropdown = dcc.Dropdown(\n",
    "    id='account_dropdown',\n",
    "    options=[{'label':account.name, 'value': account.id} for account in c.accounts],\n",
    "    multi=True,\n",
    "    placeholder='Select account(s)'\n",
    ")"
   ]
  },
  {
   "cell_type": "code",
   "execution_count": null,
   "metadata": {},
   "outputs": [],
   "source": [
    "account_ids = ['6c0037c1']\n",
    "records = c.account_records.getAccountRecords(account_ids=account_ids).to_pandas()\n",
    "\n",
    "record_table = dash_table.DataTable(id='record_table')"
   ]
  },
  {
   "cell_type": "code",
   "execution_count": null,
   "metadata": {},
   "outputs": [],
   "source": [
    "app.layout = html.Div([\n",
    "    account_dropdown,\n",
    "    record_table\n",
    "])"
   ]
  },
  {
   "cell_type": "code",
   "execution_count": null,
   "metadata": {},
   "outputs": [],
   "source": [
    "@app.callback(\n",
    "    [Output('record_table', 'columns'),\n",
    "     Output('record_table', 'data')],\n",
    "    [Input('account_dropdown', 'value')]\n",
    ")\n",
    "def select_records(selected_accounts):\n",
    "    if selected_accounts == None:\n",
    "        raise PreventUpdate()\n",
    "        \n",
    "    raw_records = c.account_records.getAccountRecords(account_ids=selected_accounts).to_pandas()\n",
    "    raw_accounts = c.accounts.to_pandas()\n",
    "    \n",
    "    merged_df = raw_records.merge(raw_accounts, left_on='account_id', right_on='id', how='left')\n",
    "    cleaned_df = merged_df[['datetime','name', 'balance', 'currency']]\n",
    "    \n",
    "    columns = [{\"name\": i, \"id\": i} for i in cleaned_df]\n",
    "    \n",
    "    return columns, cleaned_df.to_dict('records')"
   ]
  },
  {
   "cell_type": "code",
   "execution_count": null,
   "metadata": {
    "scrolled": false
   },
   "outputs": [],
   "source": [
    "# Run app and display result inline in the notebook\n",
    "app.run_server(mode='inline')"
   ]
  },
  {
   "cell_type": "code",
   "execution_count": null,
   "metadata": {},
   "outputs": [],
   "source": [
    "c.account_records"
   ]
  },
  {
   "cell_type": "code",
   "execution_count": null,
   "metadata": {},
   "outputs": [],
   "source": [
    "type(ac) != list"
   ]
  },
  {
   "cell_type": "code",
   "execution_count": null,
   "metadata": {},
   "outputs": [],
   "source": [
    "import os\n",
    "from os import path\n",
    "import csv\n",
    "from pathlib import Path"
   ]
  },
  {
   "cell_type": "code",
   "execution_count": null,
   "metadata": {},
   "outputs": [],
   "source": [
    "path.exists('data/')"
   ]
  },
  {
   "cell_type": "code",
   "execution_count": null,
   "metadata": {},
   "outputs": [],
   "source": [
    "data_directory_path = 'data/'\n",
    "\n",
    "if not path.exists(data_directory_path):\n",
    "    os.mkdir(data_directory_path)"
   ]
  },
  {
   "cell_type": "code",
   "execution_count": null,
   "metadata": {},
   "outputs": [],
   "source": [
    "path.exists(data_directory_path)"
   ]
  },
  {
   "cell_type": "code",
   "execution_count": null,
   "metadata": {},
   "outputs": [],
   "source": [
    "record_file = 'data/accounts.csv'\n",
    "\n",
    "l = []\n",
    "\n",
    "with open(record_file, mode='r') as csv_file:\n",
    "    if csv_file.readable():\n",
    "        csv_reader = csv.DictReader(csv_file)\n",
    "        line_count = 0\n",
    "        for row in csv_reader:\n",
    "            l.append(AccountRecord(**row))"
   ]
  },
  {
   "cell_type": "code",
   "execution_count": null,
   "metadata": {},
   "outputs": [],
   "source": [
    "l"
   ]
  },
  {
   "cell_type": "code",
   "execution_count": null,
   "metadata": {},
   "outputs": [],
   "source": [
    "csv_file.readable()"
   ]
  },
  {
   "cell_type": "code",
   "execution_count": null,
   "metadata": {},
   "outputs": [],
   "source": [
    "from finance.client import Client\n",
    "from pathlib import Path\n",
    "from dataclasses import dataclass, field\n",
    "import uuid\n",
    "from finance.client.data_classes.accounts import Account"
   ]
  },
  {
   "cell_type": "code",
   "execution_count": null,
   "metadata": {},
   "outputs": [],
   "source": [
    "c = Client()"
   ]
  },
  {
   "cell_type": "code",
   "execution_count": null,
   "metadata": {
    "scrolled": true
   },
   "outputs": [],
   "source": [
    "c."
   ]
  },
  {
   "cell_type": "markdown",
   "metadata": {},
   "source": [
    "## Write-back testing"
   ]
  },
  {
   "cell_type": "code",
   "execution_count": null,
   "metadata": {},
   "outputs": [],
   "source": [
    "from finance.client import Client\n",
    "from finance.client.data_classes.accounts import Account"
   ]
  },
  {
   "cell_type": "code",
   "execution_count": null,
   "metadata": {},
   "outputs": [],
   "source": [
    "c = Client()"
   ]
  },
  {
   "cell_type": "code",
   "execution_count": null,
   "metadata": {},
   "outputs": [],
   "source": [
    "c.addAccount(Account('Test Acct', 'USA'))"
   ]
  },
  {
   "cell_type": "code",
   "execution_count": null,
   "metadata": {},
   "outputs": [],
   "source": [
    "c.addAccount()"
   ]
  },
  {
   "cell_type": "code",
   "execution_count": null,
   "metadata": {},
   "outputs": [],
   "source": []
  },
  {
   "cell_type": "code",
   "execution_count": null,
   "metadata": {},
   "outputs": [],
   "source": [
    "c.writeBack()"
   ]
  },
  {
   "cell_type": "markdown",
   "metadata": {},
   "source": [
    "## Database testing"
   ]
  },
  {
   "cell_type": "code",
   "execution_count": null,
   "metadata": {},
   "outputs": [],
   "source": [
    "import sqlite3"
   ]
  },
  {
   "cell_type": "code",
   "execution_count": null,
   "metadata": {},
   "outputs": [],
   "source": [
    "db_path = 'data/db.sqlite3'\n",
    "con = sqlite3.connect(db_path)"
   ]
  },
  {
   "cell_type": "code",
   "execution_count": null,
   "metadata": {},
   "outputs": [],
   "source": [
    "cur.execute(\"SELECT name FROM sqlite_master WHERE type='table'\")"
   ]
  },
  {
   "cell_type": "code",
   "execution_count": null,
   "metadata": {},
   "outputs": [],
   "source": [
    "cur = con.cursor()"
   ]
  },
  {
   "cell_type": "code",
   "execution_count": null,
   "metadata": {},
   "outputs": [],
   "source": [
    "delete_table = 'DROP TABLE labels'\n",
    "cur.execute(delete_table)"
   ]
  },
  {
   "cell_type": "code",
   "execution_count": null,
   "metadata": {},
   "outputs": [],
   "source": [
    "cur.close()"
   ]
  },
  {
   "cell_type": "code",
   "execution_count": null,
   "metadata": {},
   "outputs": [],
   "source": [
    "import pandas as pd"
   ]
  },
  {
   "cell_type": "code",
   "execution_count": null,
   "metadata": {},
   "outputs": [],
   "source": [
    "cur = con.cursor()\n",
    "labels_sql = '''\n",
    "CREATE TABLE labels (\n",
    "    id text PRIMARY KEY,\n",
    "    name text,\n",
    "    description text,\n",
    ")\n",
    "'''\n",
    "cur.execute(labels_sql)"
   ]
  },
  {
   "cell_type": "code",
   "execution_count": null,
   "metadata": {},
   "outputs": [],
   "source": [
    "cur = con.cursor()\n",
    "accounts_sql = '''\n",
    "CREATE TABLE accounts (\n",
    "    id text PRIMARY KEY,\n",
    "    name text,\n",
    "    country_code text,\n",
    "    label_id text,\n",
    "    FOREIGN KEY (label_id) REFERENCES labels (id)\n",
    ")\n",
    "'''\n",
    "cur.execute(accounts_sql)"
   ]
  },
  {
   "cell_type": "code",
   "execution_count": null,
   "metadata": {},
   "outputs": [],
   "source": [
    "cur = con.cursor()\n",
    "account_records_sql = '''\n",
    "CREATE TABLE account_records (\n",
    "    id text PRIMARY KEY,\n",
    "    date text NOT NULL,\n",
    "    account_id text NOT NULL,\n",
    "    balance real NOT NULL,\n",
    "    currency text NOT NULL,\n",
    "    FOREIGN KEY (account_id) REFERENCES accounts (id)\n",
    ")\n",
    "'''\n",
    "cur.execute(account_records_sql)"
   ]
  },
  {
   "cell_type": "code",
   "execution_count": null,
   "metadata": {},
   "outputs": [],
   "source": [
    "cur.execute(\"SELECT name FROM sqlite_master WHERE type='table'\")\n",
    "cur.fetchall()"
   ]
  },
  {
   "cell_type": "code",
   "execution_count": null,
   "metadata": {},
   "outputs": [],
   "source": [
    "cur = con.cursor()\n",
    "\n",
    "accounts_sql = \"INSERT INTO accounts (name, country_code, label_id, id) VALUES (?, ?, ?, ?)\"\n",
    "\n",
    "for a in c.accounts:\n",
    "    cur.execute(accounts_sql, (a.name, a.country_code, a.label_id, a.id))"
   ]
  },
  {
   "cell_type": "code",
   "execution_count": null,
   "metadata": {},
   "outputs": [],
   "source": [
    "cur = con.cursor()\n",
    "\n",
    "account_records_sql = \"INSERT INTO account_records (id, date, account_id, balance, currency) VALUES (?, ?, ?, ?, ?)\"\n",
    "\n",
    "for ar in c.account_records:\n",
    "    cur.execute(\n",
    "        account_records_sql, \n",
    "        (ar.id, ar.datetime, ar.account_id, ar.balance, ar.currency)\n",
    "    )\n",
    "    \n",
    "    "
   ]
  },
  {
   "cell_type": "code",
   "execution_count": null,
   "metadata": {},
   "outputs": [],
   "source": [
    "from finance.client.data_classes.labels import Label, LabelList\n",
    "import csv\n",
    "\n",
    "with open('data/labels.csv', mode='r') as csv_file:\n",
    "    if csv_file.readable():\n",
    "        csv_reader = csv.DictReader(csv_file)\n",
    "        for row in csv_reader:\n",
    "            LabelList.append(Label(**row)) "
   ]
  },
  {
   "cell_type": "code",
   "execution_count": null,
   "metadata": {},
   "outputs": [],
   "source": [
    "cur = con.cursor()\n",
    "\n",
    "labels_sql = \"INSERT INTO labels (id, name, description) VALUES (?, ?, ?)\"\n",
    "\n",
    "for l in c.labels:\n",
    "    cur.execute(\n",
    "        labels_sql, \n",
    "        (l.id, l.name, l.description)\n",
    "    )\n",
    "    \n",
    "    "
   ]
  },
  {
   "cell_type": "code",
   "execution_count": null,
   "metadata": {},
   "outputs": [],
   "source": [
    "con.close()"
   ]
  },
  {
   "cell_type": "code",
   "execution_count": null,
   "metadata": {},
   "outputs": [],
   "source": [
    "import pandas as pd"
   ]
  },
  {
   "cell_type": "code",
   "execution_count": null,
   "metadata": {},
   "outputs": [],
   "source": [
    "from pathlib import Path"
   ]
  },
  {
   "cell_type": "code",
   "execution_count": null,
   "metadata": {},
   "outputs": [],
   "source": [
    "db_path=Path('data/db.sqlite3')"
   ]
  },
  {
   "cell_type": "code",
   "execution_count": null,
   "metadata": {},
   "outputs": [],
   "source": [
    "db_path = 'data/db.sqlite3'\n",
    "con = sqlite3.connect(db_path)\n"
   ]
  },
  {
   "cell_type": "code",
   "execution_count": null,
   "metadata": {},
   "outputs": [],
   "source": [
    "cur."
   ]
  },
  {
   "cell_type": "code",
   "execution_count": null,
   "metadata": {},
   "outputs": [],
   "source": [
    "con = sqlite3.connect(db_path)\n",
    "cur.execute(\"SELECT name FROM sqlite_master WHERE type='table'\")\n",
    "l = cur.fetchall()"
   ]
  },
  {
   "cell_type": "code",
   "execution_count": null,
   "metadata": {
    "scrolled": true
   },
   "outputs": [],
   "source": [
    "import sqlite3\n",
    "\n",
    "con = sqlite3.connect(db_path)\n",
    "con.row_factory = sqlite3.Row\n",
    "cur = con.cursor()\n",
    "cur.execute(\"SELECT * FROM accounts\")\n",
    "rows = cur.fetchall()\n",
    "\n",
    "cur.close()\n",
    "con.close()\n",
    "\n",
    "for row in rows:\n",
    "    values = list(row)\n",
    "    keys = row.keys()\n",
    "    \n",
    "    row_dict = dict(zip(keys,values))\n",
    "    \n"
   ]
  },
  {
   "cell_type": "code",
   "execution_count": null,
   "metadata": {},
   "outputs": [],
   "source": [
    "row_dict"
   ]
  },
  {
   "cell_type": "code",
   "execution_count": null,
   "metadata": {},
   "outputs": [],
   "source": [
    "con.commit()"
   ]
  },
  {
   "cell_type": "code",
   "execution_count": null,
   "metadata": {},
   "outputs": [],
   "source": [
    "con.close()"
   ]
  },
  {
   "cell_type": "code",
   "execution_count": null,
   "metadata": {},
   "outputs": [],
   "source": [
    "import csv\n",
    "from finance.client.data_classes.accounts import AccountList\n",
    "from finance.client.data_classes.accounts import Account\n",
    "\n",
    "list_object = AccountList()\n",
    "\n",
    "with open('data/accounts.csv', mode='r') as csv_file:\n",
    "    if csv_file.readable():\n",
    "        csv_reader = csv.DictReader(csv_file)\n",
    "        for row in csv_reader:\n",
    "            print(row)"
   ]
  },
  {
   "cell_type": "code",
   "execution_count": null,
   "metadata": {},
   "outputs": [],
   "source": [
    "list_object"
   ]
  },
  {
   "cell_type": "code",
   "execution_count": null,
   "metadata": {},
   "outputs": [],
   "source": [
    "def testfunc(a, b):\n",
    "    print(a + b)"
   ]
  },
  {
   "cell_type": "code",
   "execution_count": null,
   "metadata": {},
   "outputs": [],
   "source": [
    "t = ('a', 'b')"
   ]
  },
  {
   "cell_type": "code",
   "execution_count": null,
   "metadata": {},
   "outputs": [],
   "source": [
    "testfunc(*t)"
   ]
  },
  {
   "cell_type": "code",
   "execution_count": null,
   "metadata": {},
   "outputs": [],
   "source": [
    "from finance.client import Client"
   ]
  },
  {
   "cell_type": "code",
   "execution_count": null,
   "metadata": {},
   "outputs": [],
   "source": [
    "c = Client()"
   ]
  },
  {
   "cell_type": "code",
   "execution_count": null,
   "metadata": {},
   "outputs": [],
   "source": [
    "c.account_records"
   ]
  },
  {
   "cell_type": "code",
   "execution_count": null,
   "metadata": {},
   "outputs": [],
   "source": [
    "from finance.client.data_classes.accounts import *\n",
    "from finance.client.utils._database import _createTable"
   ]
  },
  {
   "cell_type": "code",
   "execution_count": null,
   "metadata": {},
   "outputs": [],
   "source": [
    "_accounts_table_definition"
   ]
  },
  {
   "cell_type": "code",
   "execution_count": null,
   "metadata": {},
   "outputs": [],
   "source": [
    "table_name = 'labels'\n",
    "\n",
    "con = sqlite3.connect(db_path)\n",
    "con.row_factory = sqlite3.Row\n",
    "cur = con.cursor()\n",
    "try:\n",
    "    cur.execute(f'SELECT * FROM {table_name}')\n",
    "except OperationalError:\n",
    "    _createTable(self, self.)\n",
    "rows = cur.fetchall()\n",
    "cur.close()\n",
    "con.close()"
   ]
  },
  {
   "cell_type": "code",
   "execution_count": null,
   "metadata": {},
   "outputs": [],
   "source": [
    "con = sqlite3.connect(db_path)\n",
    "cursor = con.cursor()\n",
    "cursor.execute(\"SELECT name FROM sqlite_master WHERE type='table';\")\n",
    "print(cursor.fetchall())"
   ]
  },
  {
   "cell_type": "code",
   "execution_count": null,
   "metadata": {},
   "outputs": [],
   "source": [
    "def setup_database()"
   ]
  },
  {
   "cell_type": "markdown",
   "metadata": {},
   "source": [
    "## Testing UPSERT in SQLite"
   ]
  },
  {
   "cell_type": "code",
   "execution_count": null,
   "metadata": {},
   "outputs": [],
   "source": [
    "import sqlite3"
   ]
  },
  {
   "cell_type": "code",
   "execution_count": null,
   "metadata": {},
   "outputs": [],
   "source": [
    "ids = ['9ffeeab0']"
   ]
  },
  {
   "cell_type": "code",
   "execution_count": null,
   "metadata": {
    "scrolled": true
   },
   "outputs": [],
   "source": [
    "db_path = 'data/test_db.sqlite3'\n",
    "con = sqlite3.connect(db_path)\n",
    "cur = con.cursor()\n",
    "if len(ids) > 1:    \n",
    "    query_filter = ' OR '.join([f'id=\"{id}\"' for id in ids])\n",
    "    \n",
    "else:\n",
    "    query_filter = f'id = \"{ids[0]}\"'\n",
    "\n",
    "print(query_filter)\n",
    "cur.execute(f'SELECT * FROM accounts WHERE {query_filter}')\n",
    "rows = cur.fetchall()\n",
    "for row in rows:\n",
    "    print(type(row))\n",
    "    \n",
    "     "
   ]
  },
  {
   "cell_type": "code",
   "execution_count": null,
   "metadata": {},
   "outputs": [],
   "source": [
    "ids = [1,2,3]\n",
    "query_filter = ' OR '.join([f'id={id}' for id in ids])\n",
    "print(f'SELECT * FROM accounts WHERE {query_filter}')"
   ]
  },
  {
   "cell_type": "code",
   "execution_count": null,
   "metadata": {},
   "outputs": [],
   "source": [
    "cur = con.cursor()\n",
    "cur.execute('SELECT * FROM accounts')\n"
   ]
  },
  {
   "cell_type": "code",
   "execution_count": null,
   "metadata": {},
   "outputs": [],
   "source": [
    "for row in rows:\n",
    "    print(row)"
   ]
  },
  {
   "cell_type": "code",
   "execution_count": null,
   "metadata": {},
   "outputs": [],
   "source": [
    "upsert = '''\n",
    "INSERT OR REPLACE INTO accounts (id, name, country_code)\n",
    "  VALUES('affe99d7', 'test_acct', 'AAA') \n",
    "'''"
   ]
  },
  {
   "cell_type": "code",
   "execution_count": null,
   "metadata": {},
   "outputs": [],
   "source": [
    "cur = con.cursor()\n",
    "cur.execute(upsert)"
   ]
  },
  {
   "cell_type": "code",
   "execution_count": null,
   "metadata": {},
   "outputs": [],
   "source": [
    "con.row_factory = sqlite3.Row\n",
    "cur = con.cursor()\n",
    "cur.execute('SELECT * FROM accounts')\n",
    "rows = cur.fetchall()\n",
    "for row in rows:\n",
    "    print(row)"
   ]
  },
  {
   "cell_type": "code",
   "execution_count": null,
   "metadata": {},
   "outputs": [],
   "source": [
    "con.commit()"
   ]
  },
  {
   "cell_type": "code",
   "execution_count": null,
   "metadata": {},
   "outputs": [],
   "source": [
    "records = [('444', 'test_acct', 'GGG', '000'), ('444', 'new_acct', 'XXXXX', None)]"
   ]
  },
  {
   "cell_type": "code",
   "execution_count": null,
   "metadata": {},
   "outputs": [],
   "source": [
    "con = sqlite3.connect(db_path)\n",
    "cur = con.cursor()\n",
    "update_query = '''INSERT OR REPLACE INTO accounts (id, name, country_code, label_id) \n",
    "                  VALUES (?, ?, ?, ?)'''\n",
    "\n",
    "cur.executemany(update_query, records)"
   ]
  },
  {
   "cell_type": "code",
   "execution_count": null,
   "metadata": {},
   "outputs": [],
   "source": [
    "con.close()"
   ]
  },
  {
   "cell_type": "code",
   "execution_count": null,
   "metadata": {},
   "outputs": [],
   "source": [
    "def updateMultipleRecords(db_path, table_name, values, records):\n",
    "    '''INSERT OR REPLACE records in the specified table based on the parameters\n",
    "    \n",
    "    Args:\n",
    "        db_path (Path): db_path (Path): path defining the location of the sqlite3 database\n",
    "        table_name (str): name of table in the database\n",
    "        values (tuple): corresponds to the columns to be updated in the database\n",
    "        records (list): list of records with the same structure as 'values'\n",
    "    '''\n",
    "    con = sqlite3.connect(db_path)\n",
    "    cur = con.cursor()\n",
    "    \n",
    "    val_placeholder = ','.join(['?']*len(values))\n",
    "    \n",
    "    update_query = f'''INSERT OR REPLACE INTO {table_name} {values} VALUES ({val_placeholder})'''\n",
    "\n",
    "    cur.executemany(update_query, records)\n",
    "    \n",
    "    #con.commit()\n",
    "    cur.close()\n",
    "    con.close()"
   ]
  },
  {
   "cell_type": "code",
   "execution_count": null,
   "metadata": {},
   "outputs": [],
   "source": [
    "updateMultipleRecords(db_path, 'accounts', ('id', 'name', 'country_code', 'label_id'), records)"
   ]
  },
  {
   "cell_type": "code",
   "execution_count": null,
   "metadata": {},
   "outputs": [],
   "source": [
    "from finance.client import Client"
   ]
  },
  {
   "cell_type": "code",
   "execution_count": null,
   "metadata": {},
   "outputs": [],
   "source": [
    "c = Client()"
   ]
  },
  {
   "cell_type": "code",
   "execution_count": null,
   "metadata": {},
   "outputs": [],
   "source": [
    "for account in c.accounts:\n",
    "    print(account)"
   ]
  },
  {
   "cell_type": "code",
   "execution_count": null,
   "metadata": {},
   "outputs": [],
   "source": [
    "v"
   ]
  },
  {
   "cell_type": "code",
   "execution_count": null,
   "metadata": {},
   "outputs": [],
   "source": [
    "from dataclasses import astuple, asdict, fields, \n",
    "from finance.client.data_classes.accounts import Account"
   ]
  },
  {
   "cell_type": "code",
   "execution_count": null,
   "metadata": {},
   "outputs": [],
   "source": [
    "asdict(c.accounts[0])"
   ]
  },
  {
   "cell_type": "code",
   "execution_count": null,
   "metadata": {},
   "outputs": [],
   "source": [
    "d.keys()"
   ]
  },
  {
   "cell_type": "code",
   "execution_count": null,
   "metadata": {},
   "outputs": [],
   "source": [
    "fields(Account)"
   ]
  },
  {
   "cell_type": "code",
   "execution_count": null,
   "metadata": {},
   "outputs": [],
   "source": [
    "a = Account(name='test', country_code='USA', id='qp30r9euqw')"
   ]
  },
  {
   "cell_type": "code",
   "execution_count": null,
   "metadata": {},
   "outputs": [],
   "source": [
    "asdict(a)"
   ]
  },
  {
   "cell_type": "code",
   "execution_count": null,
   "metadata": {},
   "outputs": [],
   "source": [
    "asdict()"
   ]
  },
  {
   "cell_type": "code",
   "execution_count": null,
   "metadata": {},
   "outputs": [],
   "source": [
    "tuple(asdict(a).keys())"
   ]
  },
  {
   "cell_type": "code",
   "execution_count": null,
   "metadata": {},
   "outputs": [],
   "source": [
    "data_types = {\n",
    "    'accounts' : {\n",
    "        'table_name' : 'accounts',\n",
    "        'table_definition' : 'accounts_table_definition',\n",
    "        'resource_type' : 'Account',\n",
    "        'list_type': 'AccountList'\n",
    "    },\n",
    "    'account_records' : {\n",
    "        'table_name' : 'account_records',\n",
    "        'table_definition' : 'account_records_table_definition',\n",
    "        'resource_type' : 'AccountRecord',\n",
    "        'list_type': 'AccountRecordList'\n",
    "    },\n",
    "    'labels' : {\n",
    "        'table_name' : 'labels',\n",
    "        'table_definition' : 'labels_table_definition',\n",
    "        'resource_type' : 'Label',\n",
    "        'list_type': 'LabelList'\n",
    "    }\n",
    "}"
   ]
  },
  {
   "cell_type": "code",
   "execution_count": null,
   "metadata": {},
   "outputs": [],
   "source": [
    "for data_type in data_types:\n",
    "    print(data_type)"
   ]
  },
  {
   "cell_type": "code",
   "execution_count": null,
   "metadata": {},
   "outputs": [],
   "source": [
    "from finance.client import Client\n",
    "from finance.client.data_classes.accounts import Account"
   ]
  },
  {
   "cell_type": "code",
   "execution_count": null,
   "metadata": {},
   "outputs": [],
   "source": [
    "c = Client(db_path='data/test_db.sqlite3')"
   ]
  },
  {
   "cell_type": "code",
   "execution_count": null,
   "metadata": {
    "scrolled": true
   },
   "outputs": [],
   "source": [
    "c.accounts.list()"
   ]
  },
  {
   "cell_type": "code",
   "execution_count": null,
   "metadata": {},
   "outputs": [],
   "source": [
    "a = Account(name=\"update_test\", country_code='USA', id='70daf02d')"
   ]
  },
  {
   "cell_type": "code",
   "execution_count": null,
   "metadata": {},
   "outputs": [],
   "source": [
    "c.accounts.update(a)"
   ]
  },
  {
   "cell_type": "code",
   "execution_count": null,
   "metadata": {},
   "outputs": [],
   "source": [
    "c.accounts.list()"
   ]
  },
  {
   "cell_type": "code",
   "execution_count": null,
   "metadata": {},
   "outputs": [],
   "source": [
    "c.accounts"
   ]
  },
  {
   "cell_type": "code",
   "execution_count": null,
   "metadata": {},
   "outputs": [],
   "source": [
    "c.writeBack()"
   ]
  },
  {
   "cell_type": "code",
   "execution_count": null,
   "metadata": {},
   "outputs": [],
   "source": [
    "from dataclasses import astuple, asdict\n",
    "import sqlite3"
   ]
  },
  {
   "cell_type": "code",
   "execution_count": null,
   "metadata": {},
   "outputs": [],
   "source": [
    "def updateMultipleRecords(db_path, table_name, records):\n",
    "    '''INSERT OR REPLACE records in the specified table based on the parameters.\n",
    "    \n",
    "    Args:\n",
    "        db_path (Path): db_path (Path): path defining the location of the sqlite3 database\n",
    "        table_name (str): name of table in the database\n",
    "        records (list): list of records with the same structure as 'values'\n",
    "            NOTE: all records must be of the same dataclass\n",
    "    '''\n",
    "    \n",
    "    values = tuple(asdict(records[0]).keys()) # uses first record as indicative of all records\n",
    "    \n",
    "    tuple_records = [astuple(record) for record in records]\n",
    "    \n",
    "    con = sqlite3.connect(db_path)\n",
    "    cur = con.cursor()\n",
    "    \n",
    "    val_placeholder = ','.join(['?']*len(values))\n",
    "    \n",
    "    update_query = f'''INSERT OR REPLACE INTO {table_name} {values} VALUES ({val_placeholder})'''\n",
    "\n",
    "#     cur.executemany(update_query, tuple_records)\n",
    "    \n",
    "#     con.commit()\n",
    "    cur.close()\n",
    "    con.close()"
   ]
  },
  {
   "cell_type": "code",
   "execution_count": null,
   "metadata": {},
   "outputs": [],
   "source": [
    "updateMultipleRecords('data/test_db.sqlite3', 'accounts', c.accounts)"
   ]
  },
  {
   "cell_type": "code",
   "execution_count": null,
   "metadata": {},
   "outputs": [],
   "source": [
    "tuple(asdict(c.accounts[0]).keys())"
   ]
  },
  {
   "cell_type": "code",
   "execution_count": null,
   "metadata": {},
   "outputs": [],
   "source": [
    "def list(name=None, country_code=None, label_id=None):\n",
    "    '''Retrieves a list of accounts based on the criteria. \n",
    "\n",
    "    Args:\n",
    "        name (str): name of account\n",
    "        country_code (str): country code for region (e.g., USA)\n",
    "        label_id (str): unique id of the label on the account\n",
    "    Returns:\n",
    "        (list): objects meeting filter criteria\n",
    "    '''\n",
    "    \n",
    "    \n",
    "    query_list = []\n",
    "        \n",
    "    if name:\n",
    "        name_query = f'name = {name}'\n",
    "        query_list.append(name_query)\n",
    "\n",
    "    if country_code:\n",
    "        country_code_query = f'country_code = {country_code}'\n",
    "        query_list.append(country_code_query)\n",
    "        \n",
    "    if label_id:\n",
    "        label_query = f'label_id = {label_id}'\n",
    "        query_list.append(label_query)\n",
    "        \n",
    "    if len(query_list) > 0:\n",
    "        query = ' AND '.join(query_list)\n",
    "    else:\n",
    "        query = ''\n",
    "        \n",
    "    return query\n",
    "        "
   ]
  },
  {
   "cell_type": "code",
   "execution_count": null,
   "metadata": {},
   "outputs": [],
   "source": [
    "list(country_code='USA', name='test')"
   ]
  },
  {
   "cell_type": "code",
   "execution_count": null,
   "metadata": {},
   "outputs": [],
   "source": [
    "';'.join(l)"
   ]
  },
  {
   "cell_type": "code",
   "execution_count": null,
   "metadata": {},
   "outputs": [],
   "source": [
    "name = 1\n",
    "if name:\n",
    "    print('t')"
   ]
  },
  {
   "cell_type": "code",
   "execution_count": null,
   "metadata": {},
   "outputs": [],
   "source": [
    "try:\n",
    "    l = 1 / 0\n",
    "except:\n",
    "    print('test')\n",
    "    raise"
   ]
  },
  {
   "cell_type": "code",
   "execution_count": 10,
   "metadata": {},
   "outputs": [],
   "source": [
    "from finance.client import Client\n",
    "from finance.client.data_classes.accounts import Account\n",
    "import sqlite3"
   ]
  },
  {
   "cell_type": "code",
   "execution_count": 23,
   "metadata": {},
   "outputs": [],
   "source": [
    "c = Client(db_path = 'data/test_db.sqlite3')"
   ]
  },
  {
   "cell_type": "code",
   "execution_count": 31,
   "metadata": {
    "scrolled": false
   },
   "outputs": [
    {
     "data": {
      "text/html": [
       "<table border=\"1\" class=\"dataframe\">\n",
       "  <thead>\n",
       "    <tr style=\"text-align: right;\">\n",
       "      <th></th>\n",
       "      <th>name</th>\n",
       "      <th>country_code</th>\n",
       "      <th>label_id</th>\n",
       "      <th>id</th>\n",
       "    </tr>\n",
       "  </thead>\n",
       "  <tbody>\n",
       "    <tr>\n",
       "      <th>0</th>\n",
       "      <td>Chase Checking</td>\n",
       "      <td>USA</td>\n",
       "      <td>0de1ed51</td>\n",
       "      <td>882b8dca</td>\n",
       "    </tr>\n",
       "    <tr>\n",
       "      <th>1</th>\n",
       "      <td>Chase Savings</td>\n",
       "      <td>USA</td>\n",
       "      <td>0de1ed51</td>\n",
       "      <td>605096bb</td>\n",
       "    </tr>\n",
       "    <tr>\n",
       "      <th>2</th>\n",
       "      <td>Marcus Savings</td>\n",
       "      <td>USA</td>\n",
       "      <td>0de1ed51</td>\n",
       "      <td>9c4b0e97</td>\n",
       "    </tr>\n",
       "    <tr>\n",
       "      <th>3</th>\n",
       "      <td>SpareBank Savings</td>\n",
       "      <td>NOR</td>\n",
       "      <td>0de1ed51</td>\n",
       "      <td>22d775cd</td>\n",
       "    </tr>\n",
       "    <tr>\n",
       "      <th>4</th>\n",
       "      <td>SpareBank BSU</td>\n",
       "      <td>NOR</td>\n",
       "      <td>dedicated</td>\n",
       "      <td>cb6a7a36</td>\n",
       "    </tr>\n",
       "    <tr>\n",
       "      <th>5</th>\n",
       "      <td>SpareBank Debit</td>\n",
       "      <td>NOR</td>\n",
       "      <td>0de1ed51</td>\n",
       "      <td>6c0037c1</td>\n",
       "    </tr>\n",
       "    <tr>\n",
       "      <th>6</th>\n",
       "      <td>Optum USA</td>\n",
       "      <td>USA</td>\n",
       "      <td>Dedicated</td>\n",
       "      <td>cc237820</td>\n",
       "    </tr>\n",
       "    <tr>\n",
       "      <th>7</th>\n",
       "      <td>Wealthfront Cash Account</td>\n",
       "      <td>USA</td>\n",
       "      <td>0de1ed51</td>\n",
       "      <td>463a9896</td>\n",
       "    </tr>\n",
       "    <tr>\n",
       "      <th>8</th>\n",
       "      <td>test_acct</td>\n",
       "      <td>AAA</td>\n",
       "      <td>None</td>\n",
       "      <td>affe99d7</td>\n",
       "    </tr>\n",
       "    <tr>\n",
       "      <th>9</th>\n",
       "      <td>test_acct</td>\n",
       "      <td>GGG</td>\n",
       "      <td>000</td>\n",
       "      <td>4444</td>\n",
       "    </tr>\n",
       "    <tr>\n",
       "      <th>10</th>\n",
       "      <td>new_acct</td>\n",
       "      <td>XXXXX</td>\n",
       "      <td>None</td>\n",
       "      <td>555</td>\n",
       "    </tr>\n",
       "    <tr>\n",
       "      <th>11</th>\n",
       "      <td>new_acct</td>\n",
       "      <td>XXXXX</td>\n",
       "      <td>None</td>\n",
       "      <td>444</td>\n",
       "    </tr>\n",
       "    <tr>\n",
       "      <th>12</th>\n",
       "      <td>client_test</td>\n",
       "      <td>GGG</td>\n",
       "      <td>None</td>\n",
       "      <td>a4684b1c</td>\n",
       "    </tr>\n",
       "    <tr>\n",
       "      <th>13</th>\n",
       "      <td>client_test</td>\n",
       "      <td>GGG</td>\n",
       "      <td>None</td>\n",
       "      <td>c6044bd8</td>\n",
       "    </tr>\n",
       "    <tr>\n",
       "      <th>14</th>\n",
       "      <td>update_test</td>\n",
       "      <td>NOR</td>\n",
       "      <td>None</td>\n",
       "      <td>3c1f708a</td>\n",
       "    </tr>\n",
       "    <tr>\n",
       "      <th>15</th>\n",
       "      <td>update_test</td>\n",
       "      <td>USA</td>\n",
       "      <td>None</td>\n",
       "      <td>70daf02d</td>\n",
       "    </tr>\n",
       "  </tbody>\n",
       "</table>"
      ],
      "text/plain": [
       "                        name country_code    label_id        id\n",
       "0             Chase Checking          USA    0de1ed51  882b8dca\n",
       "1              Chase Savings          USA    0de1ed51  605096bb\n",
       "2             Marcus Savings          USA    0de1ed51  9c4b0e97\n",
       "3          SpareBank Savings          NOR    0de1ed51  22d775cd\n",
       "4              SpareBank BSU          NOR   dedicated  cb6a7a36\n",
       "5            SpareBank Debit          NOR    0de1ed51  6c0037c1\n",
       "6                  Optum USA          USA   Dedicated  cc237820\n",
       "7   Wealthfront Cash Account          USA    0de1ed51  463a9896\n",
       "8                  test_acct          AAA        None  affe99d7\n",
       "9                  test_acct          GGG         000      4444\n",
       "10                  new_acct        XXXXX        None       555\n",
       "11                  new_acct        XXXXX        None       444\n",
       "12               client_test          GGG        None  a4684b1c\n",
       "13               client_test          GGG        None  c6044bd8\n",
       "14               update_test          NOR        None  3c1f708a\n",
       "15               update_test          USA        None  70daf02d"
      ]
     },
     "execution_count": 31,
     "metadata": {},
     "output_type": "execute_result"
    }
   ],
   "source": [
    "c.accounts.list()"
   ]
  },
  {
   "cell_type": "code",
   "execution_count": 24,
   "metadata": {},
   "outputs": [
    {
     "data": {
      "text/html": [
       "<table border=\"1\" class=\"dataframe\">\n",
       "  <thead>\n",
       "    <tr style=\"text-align: right;\">\n",
       "      <th></th>\n",
       "      <th>date</th>\n",
       "      <th>account_id</th>\n",
       "      <th>balance</th>\n",
       "      <th>currency</th>\n",
       "      <th>id</th>\n",
       "    </tr>\n",
       "  </thead>\n",
       "  <tbody>\n",
       "    <tr>\n",
       "      <th>0</th>\n",
       "      <td>2020-01-01</td>\n",
       "      <td>22d775cd</td>\n",
       "      <td>5008.0</td>\n",
       "      <td>NOK</td>\n",
       "      <td>ff2d14db</td>\n",
       "    </tr>\n",
       "    <tr>\n",
       "      <th>1</th>\n",
       "      <td>2020-02-01</td>\n",
       "      <td>22d775cd</td>\n",
       "      <td>10008.0</td>\n",
       "      <td>NOK</td>\n",
       "      <td>12e579e7</td>\n",
       "    </tr>\n",
       "    <tr>\n",
       "      <th>2</th>\n",
       "      <td>2020-03-01</td>\n",
       "      <td>22d775cd</td>\n",
       "      <td>15008.0</td>\n",
       "      <td>NOK</td>\n",
       "      <td>8703f9c7</td>\n",
       "    </tr>\n",
       "    <tr>\n",
       "      <th>3</th>\n",
       "      <td>2020-04-01</td>\n",
       "      <td>22d775cd</td>\n",
       "      <td>20008.0</td>\n",
       "      <td>NOK</td>\n",
       "      <td>3ed42cc3</td>\n",
       "    </tr>\n",
       "    <tr>\n",
       "      <th>4</th>\n",
       "      <td>2020-05-01</td>\n",
       "      <td>22d775cd</td>\n",
       "      <td>25008.0</td>\n",
       "      <td>NOK</td>\n",
       "      <td>1f39866d</td>\n",
       "    </tr>\n",
       "    <tr>\n",
       "      <th>5</th>\n",
       "      <td>2020-06-01</td>\n",
       "      <td>22d775cd</td>\n",
       "      <td>30008.0</td>\n",
       "      <td>NOK</td>\n",
       "      <td>dece3ba1</td>\n",
       "    </tr>\n",
       "    <tr>\n",
       "      <th>6</th>\n",
       "      <td>2020-07-01</td>\n",
       "      <td>22d775cd</td>\n",
       "      <td>235008.0</td>\n",
       "      <td>NOK</td>\n",
       "      <td>1314a58e</td>\n",
       "    </tr>\n",
       "  </tbody>\n",
       "</table>"
      ],
      "text/plain": [
       "         date account_id   balance currency        id\n",
       "0  2020-01-01   22d775cd    5008.0      NOK  ff2d14db\n",
       "1  2020-02-01   22d775cd   10008.0      NOK  12e579e7\n",
       "2  2020-03-01   22d775cd   15008.0      NOK  8703f9c7\n",
       "3  2020-04-01   22d775cd   20008.0      NOK  3ed42cc3\n",
       "4  2020-05-01   22d775cd   25008.0      NOK  1f39866d\n",
       "5  2020-06-01   22d775cd   30008.0      NOK  dece3ba1\n",
       "6  2020-07-01   22d775cd  235008.0      NOK  1314a58e"
      ]
     },
     "execution_count": 24,
     "metadata": {},
     "output_type": "execute_result"
    }
   ],
   "source": [
    "c.records.list(account_id='22d775cd')"
   ]
  },
  {
   "cell_type": "code",
   "execution_count": 25,
   "metadata": {},
   "outputs": [],
   "source": [
    "db_path = 'data/test_db.sqlite3'\n",
    "table_name = 'accounts'\n",
    "ids = ['a3266238']"
   ]
  },
  {
   "cell_type": "code",
   "execution_count": 32,
   "metadata": {},
   "outputs": [],
   "source": [
    "def deleteMultipleRecords(db_path, table_name, ids):\n",
    "    '''DELETE records in the specified table based on the parameters.\n",
    "    \n",
    "    Args:\n",
    "        db_path (Path): db_path (Path): path defining the location of the sqlite3 database\n",
    "        table_name (str): name of table in the database\n",
    "        ids (str OR list of str): ids of the records to delete\n",
    "    '''\n",
    "    \n",
    "    if type(ids) != list:\n",
    "        ids = [ids]\n",
    "    \n",
    "    con = sqlite3.connect(db_path)\n",
    "    cur = con.cursor()\n",
    "        \n",
    "    delete_query = f'''DELETE FROM {table_name} WHERE id=?'''\n",
    "    \n",
    "    try:\n",
    "        for id in ids:\n",
    "            cur.execute(delete_query, (id,))\n",
    "            \n",
    "    except:\n",
    "        cur.close()\n",
    "        con.close()\n",
    "        raise\n",
    "    \n",
    "    con.commit()\n",
    "    cur.close()\n",
    "    con.close()"
   ]
  },
  {
   "cell_type": "code",
   "execution_count": 30,
   "metadata": {},
   "outputs": [],
   "source": [
    "deleteMultipleRecords(db_path=db_path, table_name=table_name, ids=['1234'])"
   ]
  },
  {
   "cell_type": "code",
   "execution_count": null,
   "metadata": {},
   "outputs": [],
   "source": []
  }
 ],
 "metadata": {
  "kernelspec": {
   "display_name": "Python 3",
   "language": "python",
   "name": "python3"
  },
  "language_info": {
   "codemirror_mode": {
    "name": "ipython",
    "version": 3
   },
   "file_extension": ".py",
   "mimetype": "text/x-python",
   "name": "python",
   "nbconvert_exporter": "python",
   "pygments_lexer": "ipython3",
   "version": "3.7.6"
  }
 },
 "nbformat": 4,
 "nbformat_minor": 4
}
