{
 "cells": [
  {
   "cell_type": "code",
   "execution_count": 1,
   "metadata": {},
   "outputs": [],
   "source": [
    "from finance.client import Client\n",
    "from finance.client.data_classes.accounts import Account"
   ]
  },
  {
   "cell_type": "code",
   "execution_count": 2,
   "metadata": {},
   "outputs": [],
   "source": [
    "c = Client()"
   ]
  },
  {
   "cell_type": "code",
   "execution_count": 3,
   "metadata": {},
   "outputs": [
    {
     "data": {
      "text/html": [
       "<table border=\"1\" class=\"dataframe\">\n",
       "  <thead>\n",
       "    <tr style=\"text-align: right;\">\n",
       "      <th></th>\n",
       "      <th>name</th>\n",
       "      <th>country_code</th>\n",
       "      <th>label_id</th>\n",
       "      <th>id</th>\n",
       "    </tr>\n",
       "  </thead>\n",
       "  <tbody>\n",
       "    <tr>\n",
       "      <th>0</th>\n",
       "      <td>Chase Checking</td>\n",
       "      <td>USA</td>\n",
       "      <td>0de1ed51</td>\n",
       "      <td>882b8dca</td>\n",
       "    </tr>\n",
       "    <tr>\n",
       "      <th>1</th>\n",
       "      <td>Chase Savings</td>\n",
       "      <td>USA</td>\n",
       "      <td>0de1ed51</td>\n",
       "      <td>605096bb</td>\n",
       "    </tr>\n",
       "    <tr>\n",
       "      <th>2</th>\n",
       "      <td>Marcus Savings</td>\n",
       "      <td>USA</td>\n",
       "      <td>0de1ed51</td>\n",
       "      <td>9c4b0e97</td>\n",
       "    </tr>\n",
       "    <tr>\n",
       "      <th>3</th>\n",
       "      <td>SpareBank Savings</td>\n",
       "      <td>NOR</td>\n",
       "      <td>0de1ed51</td>\n",
       "      <td>22d775cd</td>\n",
       "    </tr>\n",
       "    <tr>\n",
       "      <th>4</th>\n",
       "      <td>SpareBank BSU</td>\n",
       "      <td>NOR</td>\n",
       "      <td>dedicated</td>\n",
       "      <td>cb6a7a36</td>\n",
       "    </tr>\n",
       "    <tr>\n",
       "      <th>5</th>\n",
       "      <td>SpareBank Debit</td>\n",
       "      <td>NOR</td>\n",
       "      <td>0de1ed51</td>\n",
       "      <td>6c0037c1</td>\n",
       "    </tr>\n",
       "    <tr>\n",
       "      <th>6</th>\n",
       "      <td>Optum USA</td>\n",
       "      <td>USA</td>\n",
       "      <td>Dedicated</td>\n",
       "      <td>cc237820</td>\n",
       "    </tr>\n",
       "    <tr>\n",
       "      <th>7</th>\n",
       "      <td>Siemens Savings Plan</td>\n",
       "      <td>USA</td>\n",
       "      <td>long-term</td>\n",
       "      <td>affe99d7</td>\n",
       "    </tr>\n",
       "    <tr>\n",
       "      <th>8</th>\n",
       "      <td>Wealthfront Cash Account</td>\n",
       "      <td>USA</td>\n",
       "      <td>0de1ed51</td>\n",
       "      <td>463a9896</td>\n",
       "    </tr>\n",
       "    <tr>\n",
       "      <th>9</th>\n",
       "      <td>SpareBank Debit</td>\n",
       "      <td>NOR</td>\n",
       "      <td>0de1ed51</td>\n",
       "      <td>45eff094</td>\n",
       "    </tr>\n",
       "    <tr>\n",
       "      <th>10</th>\n",
       "      <td>Optum USA</td>\n",
       "      <td>USA</td>\n",
       "      <td>12c5ff9b</td>\n",
       "      <td>00d7ccc8</td>\n",
       "    </tr>\n",
       "    <tr>\n",
       "      <th>11</th>\n",
       "      <td>Siemens Savings Plan</td>\n",
       "      <td>USA</td>\n",
       "      <td>4fe0e2d2</td>\n",
       "      <td>e19d859a</td>\n",
       "    </tr>\n",
       "  </tbody>\n",
       "</table>"
      ],
      "text/plain": [
       "                        name country_code    label_id        id\n",
       "0             Chase Checking          USA    0de1ed51  882b8dca\n",
       "1              Chase Savings          USA    0de1ed51  605096bb\n",
       "2             Marcus Savings          USA    0de1ed51  9c4b0e97\n",
       "3          SpareBank Savings          NOR    0de1ed51  22d775cd\n",
       "4              SpareBank BSU          NOR   dedicated  cb6a7a36\n",
       "5            SpareBank Debit          NOR    0de1ed51  6c0037c1\n",
       "6                  Optum USA          USA   Dedicated  cc237820\n",
       "7       Siemens Savings Plan          USA   long-term  affe99d7\n",
       "8   Wealthfront Cash Account          USA    0de1ed51  463a9896\n",
       "9            SpareBank Debit          NOR    0de1ed51  45eff094\n",
       "10                 Optum USA          USA    12c5ff9b  00d7ccc8\n",
       "11      Siemens Savings Plan          USA    4fe0e2d2  e19d859a"
      ]
     },
     "execution_count": 3,
     "metadata": {},
     "output_type": "execute_result"
    }
   ],
   "source": [
    "c.accounts.list()"
   ]
  },
  {
   "cell_type": "code",
   "execution_count": 4,
   "metadata": {},
   "outputs": [
    {
     "ename": "AttributeError",
     "evalue": "'AccountsAPI' object has no attribute 'delete'",
     "output_type": "error",
     "traceback": [
      "\u001b[0;31m---------------------------------------------------------------------------\u001b[0m",
      "\u001b[0;31mAttributeError\u001b[0m                            Traceback (most recent call last)",
      "\u001b[0;32m<ipython-input-4-3ba46ca1f875>\u001b[0m in \u001b[0;36m<module>\u001b[0;34m\u001b[0m\n\u001b[0;32m----> 1\u001b[0;31m \u001b[0mc\u001b[0m\u001b[0;34m.\u001b[0m\u001b[0maccounts\u001b[0m\u001b[0;34m.\u001b[0m\u001b[0mdelete\u001b[0m\u001b[0;34m(\u001b[0m\u001b[0mids\u001b[0m\u001b[0;34m=\u001b[0m\u001b[0;34m[\u001b[0m\u001b[0;34m'affe99d7'\u001b[0m\u001b[0;34m]\u001b[0m\u001b[0;34m)\u001b[0m\u001b[0;34m\u001b[0m\u001b[0;34m\u001b[0m\u001b[0m\n\u001b[0m",
      "\u001b[0;31mAttributeError\u001b[0m: 'AccountsAPI' object has no attribute 'delete'"
     ]
    }
   ],
   "source": [
    "c.accounts.delete(ids=['affe99d7'])"
   ]
  },
  {
   "cell_type": "code",
   "execution_count": null,
   "metadata": {},
   "outputs": [],
   "source": [
    "spare_debit_update = Account(name='SpareBank Debit', country_code='NOR', label_id='0de1ed51')\n",
    "optum_update = Account(name='Optum USA', country_code='USA', label_id='12c5ff9b')\n",
    "siemens_savings_update = Account(name='Siemens Savings Plan', country_code='USA', label_id='4fe0e2d2')\n",
    "\n",
    "updates = [spare_debit_update, optum_update, siemens_savings_update]"
   ]
  },
  {
   "cell_type": "code",
   "execution_count": null,
   "metadata": {},
   "outputs": [],
   "source": []
  },
  {
   "cell_type": "code",
   "execution_count": null,
   "metadata": {},
   "outputs": [],
   "source": []
  }
 ],
 "metadata": {
  "kernelspec": {
   "display_name": "finance_app",
   "language": "python",
   "name": "finance_app"
  },
  "language_info": {
   "codemirror_mode": {
    "name": "ipython",
    "version": 3
   },
   "file_extension": ".py",
   "mimetype": "text/x-python",
   "name": "python",
   "nbconvert_exporter": "python",
   "pygments_lexer": "ipython3",
   "version": "3.7.6"
  }
 },
 "nbformat": 4,
 "nbformat_minor": 4
}
